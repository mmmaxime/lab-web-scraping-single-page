{
 "cells": [
  {
   "cell_type": "markdown",
   "id": "4df4292e",
   "metadata": {},
   "source": [
    "## LAB 6.1 Lab | Web Scraping Single Page."
   ]
  },
  {
   "cell_type": "markdown",
   "id": "7414eb16",
   "metadata": {},
   "source": [
    "##### Importing the librairies and the URL"
   ]
  },
  {
   "cell_type": "code",
   "execution_count": 1,
   "id": "598db255",
   "metadata": {},
   "outputs": [],
   "source": [
    "from bs4 import BeautifulSoup\n",
    "import requests\n",
    "import pandas as pd\n",
    "import numpy as pd"
   ]
  },
  {
   "cell_type": "code",
   "execution_count": 2,
   "id": "16be1b3e",
   "metadata": {},
   "outputs": [],
   "source": [
    "url = \"https://www.popvortex.com/music/charts/top-100-songs.php\""
   ]
  },
  {
   "cell_type": "code",
   "execution_count": 3,
   "id": "22f6b183",
   "metadata": {},
   "outputs": [
    {
     "data": {
      "text/plain": [
       "200"
      ]
     },
     "execution_count": 3,
     "metadata": {},
     "output_type": "execute_result"
    }
   ],
   "source": [
    "response = requests.get(url)\n",
    "response.status_code"
   ]
  },
  {
   "cell_type": "code",
   "execution_count": 4,
   "id": "c926a1e9",
   "metadata": {
    "scrolled": false
   },
   "outputs": [],
   "source": [
    "soup = BeautifulSoup(response.content,\"html.parser\")\n",
    "#print(soup.prettify())"
   ]
  },
  {
   "cell_type": "markdown",
   "id": "ec1adf8d",
   "metadata": {},
   "source": [
    "##### Selector"
   ]
  },
  {
   "cell_type": "code",
   "execution_count": 5,
   "id": "f5db8231",
   "metadata": {},
   "outputs": [],
   "source": [
    "#body > div.container > div:nth-child(4) > div.col-xs-12.col-md-8 > div.chart-wrapper"
   ]
  },
  {
   "cell_type": "markdown",
   "id": "22936932",
   "metadata": {},
   "source": [
    "Selecting the artists first"
   ]
  },
  {
   "cell_type": "code",
   "execution_count": 6,
   "id": "d5b96318",
   "metadata": {},
   "outputs": [
    {
     "data": {
      "text/plain": [
       "[<em class=\"artist\">Daughtry</em>,\n",
       " <em class=\"artist\">Sam Smith &amp; Kim Petras</em>,\n",
       " <em class=\"artist\">Lainey Wilson</em>,\n",
       " <em class=\"artist\">Taylor Swift</em>,\n",
       " <em class=\"artist\">Jelly Roll</em>,\n",
       " <em class=\"artist\">Meghan Trainor</em>,\n",
       " <em class=\"artist\">Rihanna</em>,\n",
       " <em class=\"artist\">Sean Paul</em>,\n",
       " <em class=\"artist\">HARDY &amp; Lainey Wilson</em>,\n",
       " <em class=\"artist\">Morgan Wallen</em>,\n",
       " <em class=\"artist\">Lady Gaga</em>,\n",
       " <em class=\"artist\">Kane Brown &amp; Katelyn Brown</em>,\n",
       " <em class=\"artist\">OneRepublic</em>,\n",
       " <em class=\"artist\">Sia</em>,\n",
       " <em class=\"artist\">Zach Bryan</em>,\n",
       " <em class=\"artist\">David Guetta &amp; Bebe Rexha</em>,\n",
       " <em class=\"artist\">Tom MacDonald</em>,\n",
       " <em class=\"artist\">Harry Styles</em>,\n",
       " <em class=\"artist\">Luke Grimes</em>,\n",
       " <em class=\"artist\">Bailey Zimmerman</em>,\n",
       " <em class=\"artist\">Morgan Wallen</em>,\n",
       " <em class=\"artist\">Bazzi</em>,\n",
       " <em class=\"artist\">Old Dominion</em>,\n",
       " <em class=\"artist\">Morgan Wallen</em>,\n",
       " <em class=\"artist\">Morgan Wallen</em>,\n",
       " <em class=\"artist\">Coi Leray</em>,\n",
       " <em class=\"artist\">Lady Gaga</em>,\n",
       " <em class=\"artist\">Shania Twain</em>,\n",
       " <em class=\"artist\">Rema &amp; Selena Gomez</em>,\n",
       " <em class=\"artist\">Mike Posner</em>,\n",
       " <em class=\"artist\">David Guetta &amp; Bebe Rexha</em>,\n",
       " <em class=\"artist\">Bailey Zimmerman</em>,\n",
       " <em class=\"artist\">Elton John &amp; Britney Spears</em>,\n",
       " <em class=\"artist\">Luke Combs</em>,\n",
       " <em class=\"artist\">Metro Boomin, The Weeknd &amp; 21 Savage</em>,\n",
       " <em class=\"artist\">Beyoncé</em>,\n",
       " <em class=\"artist\">Brandon Lake</em>,\n",
       " <em class=\"artist\">Zach Bryan</em>,\n",
       " <em class=\"artist\">Bad Omens</em>,\n",
       " <em class=\"artist\">Jordan Davis</em>,\n",
       " <em class=\"artist\">Lizzo</em>,\n",
       " <em class=\"artist\">JVKE</em>,\n",
       " <em class=\"artist\">Luke Combs</em>,\n",
       " <em class=\"artist\">Fuerza Regida &amp; Grupo Frontera</em>,\n",
       " <em class=\"artist\">Sleep Token</em>,\n",
       " <em class=\"artist\">SZA</em>,\n",
       " <em class=\"artist\">Chris Brown</em>,\n",
       " <em class=\"artist\">P!nk</em>,\n",
       " <em class=\"artist\">Carin Leon &amp; Grupo Frontera</em>,\n",
       " <em class=\"artist\">Lily Meola</em>,\n",
       " <em class=\"artist\">Lainey Wilson</em>,\n",
       " <em class=\"artist\">Tyler Hubbard</em>,\n",
       " <em class=\"artist\">Ed Sheeran</em>,\n",
       " <em class=\"artist\">French Montana, DJ Drama &amp; Cheeze</em>,\n",
       " <em class=\"artist\">The Weeknd</em>,\n",
       " <em class=\"artist\">Elton John &amp; Dua Lipa</em>,\n",
       " <em class=\"artist\">Three Dog Night</em>,\n",
       " <em class=\"artist\">TALK</em>,\n",
       " <em class=\"artist\">Nate Smith</em>,\n",
       " <em class=\"artist\">Jax</em>,\n",
       " <em class=\"artist\">Dean Lewis</em>,\n",
       " <em class=\"artist\">Chris Stapleton</em>,\n",
       " <em class=\"artist\">Morgan Wallen</em>,\n",
       " <em class=\"artist\">Cole Swindell</em>,\n",
       " <em class=\"artist\">French Montana &amp; NAV</em>,\n",
       " <em class=\"artist\">Zach Bryan</em>,\n",
       " <em class=\"artist\">Jelly Roll</em>,\n",
       " <em class=\"artist\">Parker McCollum</em>,\n",
       " <em class=\"artist\">Tyler Childers</em>,\n",
       " <em class=\"artist\">Megan Moroney</em>,\n",
       " <em class=\"artist\">Plain White T's</em>,\n",
       " <em class=\"artist\">The Cramps</em>,\n",
       " <em class=\"artist\">Lil Uzi Vert</em>,\n",
       " <em class=\"artist\">YoungBoy Never Broke Again</em>,\n",
       " <em class=\"artist\">Old Dominion</em>,\n",
       " <em class=\"artist\">The Monkees</em>,\n",
       " <em class=\"artist\">Phil Collins</em>,\n",
       " <em class=\"artist\">MONSTA X</em>,\n",
       " <em class=\"artist\">French Montana</em>,\n",
       " <em class=\"artist\">Chinx, DJ Drama &amp; French Montana</em>,\n",
       " <em class=\"artist\">Lewis Capaldi</em>,\n",
       " <em class=\"artist\">CeCe Winans</em>,\n",
       " <em class=\"artist\">Imagine Dragons</em>,\n",
       " <em class=\"artist\">RAYE &amp; 070 Shake</em>,\n",
       " <em class=\"artist\">Lainey Wilson</em>,\n",
       " <em class=\"artist\">Nicky Youre &amp; Dazy</em>,\n",
       " <em class=\"artist\">French Montana</em>,\n",
       " <em class=\"artist\">Drake &amp; 21 Savage</em>,\n",
       " <em class=\"artist\">Cody Johnson</em>,\n",
       " <em class=\"artist\">Rachael Lampa</em>,\n",
       " <em class=\"artist\">Lainey Wilson</em>,\n",
       " <em class=\"artist\">French Montana, Stove God Cooks &amp; DJ Drama</em>,\n",
       " <em class=\"artist\">French Montana, DJ Drama &amp; Rob49</em>,\n",
       " <em class=\"artist\">Stephen Sanchez</em>,\n",
       " <em class=\"artist\">Carly Pearce</em>,\n",
       " <em class=\"artist\">Jordan Davis</em>,\n",
       " <em class=\"artist\">Zach Bryan</em>,\n",
       " <em class=\"artist\">Beyoncé</em>,\n",
       " <em class=\"artist\">YoungBoy Never Broke Again</em>,\n",
       " <em class=\"artist\">Steve Lacy</em>]"
      ]
     },
     "execution_count": 6,
     "metadata": {},
     "output_type": "execute_result"
    }
   ],
   "source": [
    "soup.select(\"div.chart-wrapper p em\")"
   ]
  },
  {
   "cell_type": "markdown",
   "id": "86b50188",
   "metadata": {},
   "source": [
    "Selecting the songs afterwards"
   ]
  },
  {
   "cell_type": "code",
   "execution_count": 7,
   "id": "d8dea44e",
   "metadata": {},
   "outputs": [
    {
     "data": {
      "text/plain": [
       "[<cite class=\"title\">Separate Ways (Worlds Apart) [feat. Lzzy Hale]</cite>,\n",
       " <cite class=\"title\">Unholy</cite>,\n",
       " <cite class=\"title\">Heart Like A Truck</cite>,\n",
       " <cite class=\"title\">Anti-Hero</cite>,\n",
       " <cite class=\"title\">Son Of A Sinner</cite>,\n",
       " <cite class=\"title\">Made You Look</cite>,\n",
       " <cite class=\"title\">Lift Me Up (From Black Panther: Wakanda Forever - Music From and Inspired By)</cite>,\n",
       " <cite class=\"title\">Temperature</cite>,\n",
       " <cite class=\"title\">wait in the truck</cite>,\n",
       " <cite class=\"title\">Thought You Should Know</cite>,\n",
       " <cite class=\"title\">Bloody Mary</cite>,\n",
       " <cite class=\"title\">Thank God</cite>,\n",
       " <cite class=\"title\">I Ain't Worried</cite>,\n",
       " <cite class=\"title\">Unstoppable</cite>,\n",
       " <cite class=\"title\">Something in the Orange (Z&amp;E's Version)</cite>,\n",
       " <cite class=\"title\">I'm Good (Blue)</cite>,\n",
       " <cite class=\"title\">Ghost</cite>,\n",
       " <cite class=\"title\">As It Was</cite>,\n",
       " <cite class=\"title\">No Horse To Ride</cite>,\n",
       " <cite class=\"title\">Rock and a Hard Place</cite>,\n",
       " <cite class=\"title\">One Thing At A Time</cite>,\n",
       " <cite class=\"title\">Mine</cite>,\n",
       " <cite class=\"title\">Memory Lane</cite>,\n",
       " <cite class=\"title\">You Proof</cite>,\n",
       " <cite class=\"title\">Wasted On You</cite>,\n",
       " <cite class=\"title\">Players</cite>,\n",
       " <cite class=\"title\">Hold My Hand</cite>,\n",
       " <cite class=\"title\">Giddy Up!</cite>,\n",
       " <cite class=\"title\">Calm Down</cite>,\n",
       " <cite class=\"title\">Cooler Than Me (Single Mix)</cite>,\n",
       " <cite class=\"title\">I'm Good (Blue)</cite>,\n",
       " <cite class=\"title\">Fall In Love</cite>,\n",
       " <cite class=\"title\">Hold Me Closer</cite>,\n",
       " <cite class=\"title\">The Kind of Love We Make</cite>,\n",
       " <cite class=\"title\">Creepin'</cite>,\n",
       " <cite class=\"title\">CUFF IT</cite>,\n",
       " <cite class=\"title\">Gratitude</cite>,\n",
       " <cite class=\"title\">Tishomingo</cite>,\n",
       " <cite class=\"title\">Just Pretend</cite>,\n",
       " <cite class=\"title\">What My World Spins Around</cite>,\n",
       " <cite class=\"title\">About Damn Time</cite>,\n",
       " <cite class=\"title\">golden hour</cite>,\n",
       " <cite class=\"title\">Going, Going, Gone</cite>,\n",
       " <cite class=\"title\">Bebe Dame</cite>,\n",
       " <cite class=\"title\">The Summoning</cite>,\n",
       " <cite class=\"title\">Kill Bill</cite>,\n",
       " <cite class=\"title\">Under the Influence</cite>,\n",
       " <cite class=\"title\">Sober</cite>,\n",
       " <cite class=\"title\">Que Vuelvas</cite>,\n",
       " <cite class=\"title\">Daydream</cite>,\n",
       " <cite class=\"title\">Watermelon Moonshine</cite>,\n",
       " <cite class=\"title\">Me For Me</cite>,\n",
       " <cite class=\"title\">Shivers</cite>,\n",
       " <cite class=\"title\">Going Yeezy</cite>,\n",
       " <cite class=\"title\">Die For You</cite>,\n",
       " <cite class=\"title\">Cold Heart (PNAU Remix)</cite>,\n",
       " <cite class=\"title\">Never Been to Spain</cite>,\n",
       " <cite class=\"title\">Run Away to Mars</cite>,\n",
       " <cite class=\"title\">Wreckage</cite>,\n",
       " <cite class=\"title\">Victoria’s Secret</cite>,\n",
       " <cite class=\"title\">How Do I Say Goodbye</cite>,\n",
       " <cite class=\"title\">Tennessee Whiskey</cite>,\n",
       " <cite class=\"title\">Chasin' You</cite>,\n",
       " <cite class=\"title\">She Had Me At Heads Carolina</cite>,\n",
       " <cite class=\"title\">Fenty</cite>,\n",
       " <cite class=\"title\">Something in the Orange</cite>,\n",
       " <cite class=\"title\">NEED A FAVOR</cite>,\n",
       " <cite class=\"title\">Handle On You</cite>,\n",
       " <cite class=\"title\">Way of the Triune God (Hallelujah Version)</cite>,\n",
       " <cite class=\"title\">Tennessee Orange</cite>,\n",
       " <cite class=\"title\">Hey There Delilah</cite>,\n",
       " <cite class=\"title\">Goo Goo Muck</cite>,\n",
       " <cite class=\"title\">Just Wanna Rock</cite>,\n",
       " <cite class=\"title\">Black</cite>,\n",
       " <cite class=\"title\">Easier Said with Rum</cite>,\n",
       " <cite class=\"title\">I'm a Believer</cite>,\n",
       " <cite class=\"title\">In the Air Tonight</cite>,\n",
       " <cite class=\"title\">Beautiful Liar</cite>,\n",
       " <cite class=\"title\">Yes I Do</cite>,\n",
       " <cite class=\"title\">The Oath</cite>,\n",
       " <cite class=\"title\">Forget Me</cite>,\n",
       " <cite class=\"title\">Goodness of God (Live)</cite>,\n",
       " <cite class=\"title\">Bones</cite>,\n",
       " <cite class=\"title\">Escapism.</cite>,\n",
       " <cite class=\"title\">Things A Man Oughta Know</cite>,\n",
       " <cite class=\"title\">Sunroof</cite>,\n",
       " <cite class=\"title\">Yes I Do</cite>,\n",
       " <cite class=\"title\">Rich Flex</cite>,\n",
       " <cite class=\"title\">'Til You Can't</cite>,\n",
       " <cite class=\"title\">Perfectly Loved (feat. TobyMac)</cite>,\n",
       " <cite class=\"title\">Smell Like Smoke</cite>,\n",
       " <cite class=\"title\">Intro (feat. Cheeze)</cite>,\n",
       " <cite class=\"title\">Igloo</cite>,\n",
       " <cite class=\"title\">Until I Found You</cite>,\n",
       " <cite class=\"title\">What He Didn't Do</cite>,\n",
       " <cite class=\"title\">Next Thing You Know</cite>,\n",
       " <cite class=\"title\">Motorcycle Drive By</cite>,\n",
       " <cite class=\"title\">CUFF IT</cite>,\n",
       " <cite class=\"title\">Top Girls</cite>,\n",
       " <cite class=\"title\">Bad Habit</cite>]"
      ]
     },
     "execution_count": 7,
     "metadata": {},
     "output_type": "execute_result"
    }
   ],
   "source": [
    "soup.select('div.chart-wrapper p cite')"
   ]
  },
  {
   "cell_type": "markdown",
   "id": "c70ba5a7",
   "metadata": {},
   "source": [
    "##### Creating for loop to list the song titles and artist to then move to a DF"
   ]
  },
  {
   "cell_type": "code",
   "execution_count": 11,
   "id": "abe96d88",
   "metadata": {},
   "outputs": [],
   "source": [
    "song = []\n",
    "artist = []\n",
    "\n",
    "num_iter = len(soup.select(\"div.chart-wrapper p em\"))\n",
    "\n",
    "for i in range(num_iter):\n",
    "    song.append(soup.select(\"div.chart-wrapper p cite\")[i].get_text())\n",
    "    artist.append(soup.select(\"div.chart-wrapper p em\")[i].get_text())"
   ]
  },
  {
   "cell_type": "code",
   "execution_count": 12,
   "id": "fdea5966",
   "metadata": {},
   "outputs": [],
   "source": [
    "import pandas as pd"
   ]
  },
  {
   "cell_type": "markdown",
   "id": "ccbb678f",
   "metadata": {},
   "source": [
    "##### Running the dataframe"
   ]
  },
  {
   "cell_type": "code",
   "execution_count": 13,
   "id": "b898c371",
   "metadata": {},
   "outputs": [],
   "source": [
    "Top100 = pd.DataFrame({\"artists\":artist,\n",
    "                      \"song\":song\n",
    "                      })"
   ]
  },
  {
   "cell_type": "code",
   "execution_count": 14,
   "id": "15a4df55",
   "metadata": {},
   "outputs": [
    {
     "data": {
      "text/html": [
       "<div>\n",
       "<style scoped>\n",
       "    .dataframe tbody tr th:only-of-type {\n",
       "        vertical-align: middle;\n",
       "    }\n",
       "\n",
       "    .dataframe tbody tr th {\n",
       "        vertical-align: top;\n",
       "    }\n",
       "\n",
       "    .dataframe thead th {\n",
       "        text-align: right;\n",
       "    }\n",
       "</style>\n",
       "<table border=\"1\" class=\"dataframe\">\n",
       "  <thead>\n",
       "    <tr style=\"text-align: right;\">\n",
       "      <th></th>\n",
       "      <th>artists</th>\n",
       "      <th>song</th>\n",
       "    </tr>\n",
       "  </thead>\n",
       "  <tbody>\n",
       "    <tr>\n",
       "      <th>0</th>\n",
       "      <td>Daughtry</td>\n",
       "      <td>Separate Ways (Worlds Apart) [feat. Lzzy Hale]</td>\n",
       "    </tr>\n",
       "    <tr>\n",
       "      <th>1</th>\n",
       "      <td>Sam Smith &amp; Kim Petras</td>\n",
       "      <td>Unholy</td>\n",
       "    </tr>\n",
       "    <tr>\n",
       "      <th>2</th>\n",
       "      <td>Lainey Wilson</td>\n",
       "      <td>Heart Like A Truck</td>\n",
       "    </tr>\n",
       "    <tr>\n",
       "      <th>3</th>\n",
       "      <td>Taylor Swift</td>\n",
       "      <td>Anti-Hero</td>\n",
       "    </tr>\n",
       "    <tr>\n",
       "      <th>4</th>\n",
       "      <td>Jelly Roll</td>\n",
       "      <td>Son Of A Sinner</td>\n",
       "    </tr>\n",
       "  </tbody>\n",
       "</table>\n",
       "</div>"
      ],
      "text/plain": [
       "                  artists                                            song\n",
       "0                Daughtry  Separate Ways (Worlds Apart) [feat. Lzzy Hale]\n",
       "1  Sam Smith & Kim Petras                                          Unholy\n",
       "2           Lainey Wilson                              Heart Like A Truck\n",
       "3            Taylor Swift                                       Anti-Hero\n",
       "4              Jelly Roll                                 Son Of A Sinner"
      ]
     },
     "execution_count": 14,
     "metadata": {},
     "output_type": "execute_result"
    }
   ],
   "source": [
    "Top100.head()"
   ]
  },
  {
   "cell_type": "code",
   "execution_count": 15,
   "id": "712acab8",
   "metadata": {},
   "outputs": [
    {
     "data": {
      "text/plain": [
       "(100, 2)"
      ]
     },
     "execution_count": 15,
     "metadata": {},
     "output_type": "execute_result"
    }
   ],
   "source": [
    "Top100.shape"
   ]
  },
  {
   "cell_type": "code",
   "execution_count": null,
   "id": "ddb14d77",
   "metadata": {},
   "outputs": [],
   "source": []
  }
 ],
 "metadata": {
  "kernelspec": {
   "display_name": "Python 3 (ipykernel)",
   "language": "python",
   "name": "python3"
  },
  "language_info": {
   "codemirror_mode": {
    "name": "ipython",
    "version": 3
   },
   "file_extension": ".py",
   "mimetype": "text/x-python",
   "name": "python",
   "nbconvert_exporter": "python",
   "pygments_lexer": "ipython3",
   "version": "3.9.13"
  }
 },
 "nbformat": 4,
 "nbformat_minor": 5
}
